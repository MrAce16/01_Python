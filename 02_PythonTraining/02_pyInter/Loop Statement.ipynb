{
 "cells": [
  {
   "cell_type": "code",
   "execution_count": 1,
   "id": "86062c53",
   "metadata": {},
   "outputs": [
    {
     "name": "stdout",
     "output_type": "stream",
     "text": [
      "Hello\n",
      "Hello\n",
      "Hello\n",
      "Hello\n",
      "Hello\n"
     ]
    }
   ],
   "source": [
    "#Write a program to print \"Hello\" 5 times\n",
    "\n",
    "print(\"Hello\")\n",
    "print(\"Hello\")\n",
    "print(\"Hello\")\n",
    "print(\"Hello\")\n",
    "print(\"Hello\")"
   ]
  },
  {
   "cell_type": "markdown",
   "id": "69f0fb87",
   "metadata": {},
   "source": [
    "# Loops\n",
    "\n",
    "Loops are the special blocks in python that will allow the statements to be executed multiple times based on either the counter value or the condition\n",
    "\n",
    "## Types of Loops\n",
    "\n",
    "1. for loop\n",
    "2. while loop\n",
    "\n",
    "## for loop\n",
    "\n",
    "for loop is used to iterate over sequences such as lists, strings, dictionaries or range() function result\n",
    "\n",
    "    for val in sequence:\n",
    "        statement to be repeated\n",
    "        \n",
    "## range() function\n",
    "\n",
    "Return a sequence of numbers \n",
    "\n",
    "- range(stop) => stop number will not be included in the sequence\n",
    "    range(5) => 0, 1, 2, 3, 4\n",
    "\n",
    "- range(start, stop) => start = 0 (default)\n",
    "    range(1, 5) => 1, 2, 3, 4\n",
    "    range(3, 8) => 3, 4, 5, 6, 7\n",
    "\n",
    "- range(start, stop, step) => step is used to specify the difference between two numbers generated, by default step = 1\n",
    "    range(1, 10, 2) => 1, 3, 5, 7, 9\n",
    "    range(10, 100, 10) => 10, 20, 30, 40, 50, 60, 70, 80, 90\n",
    "\n",
    "- range for reverse value\n",
    "    range(10, 0, -1) => 10, 9, 8, 7, 6, 5, 4, 3, 2, 1\n"
   ]
  },
  {
   "cell_type": "code",
   "execution_count": 2,
   "id": "b3264511",
   "metadata": {},
   "outputs": [
    {
     "name": "stdout",
     "output_type": "stream",
     "text": [
      "Hello\n",
      "Hello\n",
      "Hello\n",
      "Hello\n",
      "Hello\n"
     ]
    }
   ],
   "source": [
    "#2nd Method to solve above problem\n",
    "\n",
    "#For loop\n",
    "\n",
    "for i in range(0,5):\n",
    "    print(\"Hello\")"
   ]
  },
  {
   "cell_type": "code",
   "execution_count": 3,
   "id": "dddd9830",
   "metadata": {},
   "outputs": [
    {
     "name": "stdout",
     "output_type": "stream",
     "text": [
      "Entre a number:2\n",
      "2 x 1 = 2\n",
      "2 x 2 = 4\n",
      "2 x 3 = 6\n",
      "2 x 4 = 8\n",
      "2 x 5 = 10\n",
      "2 x 6 = 12\n",
      "2 x 7 = 14\n",
      "2 x 8 = 16\n",
      "2 x 9 = 18\n",
      "2 x 10 = 20\n"
     ]
    }
   ],
   "source": [
    "#Write a programm to give table of a number taken from user\n",
    "\n",
    "a=int(input(\"Entre a number:\"))\n",
    "\n",
    "for i in range(1,11):\n",
    "    print(a,\"x\",i,\"=\",a*i)"
   ]
  },
  {
   "cell_type": "code",
   "execution_count": 5,
   "id": "68264a31",
   "metadata": {},
   "outputs": [
    {
     "name": "stdout",
     "output_type": "stream",
     "text": [
      "Entre the number:212\n",
      "Entre the number:5775\n",
      "Entre the number:45\n",
      "Entre the number:77\n",
      "Entre the number:747\n",
      "Entre the number:44\n",
      "Entre the number:57574\n",
      "Entre the number:474\n",
      "Entre the number:74\n",
      "Entre the number:747\n",
      "Entre the number:54\n",
      "Sum of 10 number given by u 65823\n"
     ]
    }
   ],
   "source": [
    "#write a program to give sum of 10 numbers\n",
    "\n",
    "sum=0\n",
    "for i in range(11):\n",
    "    num=int(input(\"Entre the number:\"))\n",
    "    sum+=num                                   #sum=sum+num\n",
    "print(\"Sum of 10 number given by u\",sum )\n",
    "\n"
   ]
  },
  {
   "cell_type": "code",
   "execution_count": 6,
   "id": "cbaa44a0",
   "metadata": {},
   "outputs": [
    {
     "name": "stdout",
     "output_type": "stream",
     "text": [
      "Entre the number:5\n",
      "5 number is Odd\n",
      "Entre the number:10\n",
      "10 number is Even\n",
      "Entre the number:53\n",
      "53 number is Odd\n",
      "Entre the number:66\n",
      "66 number is Even\n",
      "Entre the number:55\n",
      "55 number is Odd\n"
     ]
    }
   ],
   "source": [
    "#Write a program to take number from user and display whether the number is even or odd\n",
    "\n",
    "for i in range (5):\n",
    "    num=int(input(\"Entre the number:\"))\n",
    "    if num%2==0:\n",
    "        print(num ,\"number is Even\")\n",
    "    else:\n",
    "        print(num, \"number is Odd\")\n",
    "\n",
    "    "
   ]
  },
  {
   "cell_type": "markdown",
   "id": "71099bb4",
   "metadata": {},
   "source": [
    "### while loop\n",
    "\n",
    "while is used to repeat the execution of the statement based on the condition being True\n",
    "\n",
    "    while condition:\n",
    "        statement to be repeated\n"
   ]
  },
  {
   "cell_type": "code",
   "execution_count": 2,
   "id": "f584e323",
   "metadata": {},
   "outputs": [
    {
     "name": "stdout",
     "output_type": "stream",
     "text": [
      "1 Good Morning\n",
      "2 Good Morning\n",
      "3 Good Morning\n",
      "4 Good Morning\n",
      "5 Good Morning\n"
     ]
    }
   ],
   "source": [
    "#Finite While Loop\n",
    "i=1\n",
    "while i<=5:\n",
    "    print(i,\"Good Morning\")\n",
    "    i+=1\n",
    "#Infinite while Loop==remove incrementation to see who infinte loop works"
   ]
  },
  {
   "cell_type": "code",
   "execution_count": 9,
   "id": "fbcfe3af",
   "metadata": {},
   "outputs": [
    {
     "name": "stdout",
     "output_type": "stream",
     "text": [
      "Entre the number:5\n",
      "Entre the number:10\n",
      "Entre the number:25\n",
      "Entre the number:-1\n",
      "Sum 40\n"
     ]
    }
   ],
   "source": [
    "#Write a program to give sum of numbers entered by user till the number is positive\n",
    "\n",
    "s=0\n",
    "num=int(input(\"Entre the number:\"))\n",
    "while num>0:\n",
    "    s+=num\n",
    "    num=int(input(\"Entre the number:\"))\n",
    "print(\"Sum\",s)"
   ]
  },
  {
   "cell_type": "markdown",
   "id": "33759af1",
   "metadata": {},
   "source": [
    "### break statement\n",
    "\n",
    "break statement is used to exit a loop prematurely when a certain condition is satisfied\n"
   ]
  },
  {
   "cell_type": "code",
   "execution_count": 18,
   "id": "4b46240c",
   "metadata": {},
   "outputs": [
    {
     "name": "stdout",
     "output_type": "stream",
     "text": [
      "Keys not found on Table\n",
      "Keys not found on Chair\n",
      "Keys not found on Ref\n",
      "Keys not found on Shoerack\n",
      "Keys are in Sofa\n"
     ]
    }
   ],
   "source": [
    "li=[\"Table\",\"Chair\",\"Ref\",\"Shoerack\",\"Sofa\",\"Bed\"]\n",
    "keys='Sofa'\n",
    "\n",
    "for i in li:\n",
    "    if i ==keys:\n",
    "        print(\"Keys are in\",i)\n",
    "        break\n",
    "    else:\n",
    "        print(\"Keys not found on\",i)"
   ]
  },
  {
   "cell_type": "markdown",
   "id": "8a42c28b",
   "metadata": {},
   "source": [
    "### continue statement\n",
    "\n",
    "continue statement is used to skip the rest of the code inside the loop for the current iteration and move to the next iteration\n"
   ]
  },
  {
   "cell_type": "code",
   "execution_count": 25,
   "id": "1141033f",
   "metadata": {},
   "outputs": [
    {
     "name": "stdout",
     "output_type": "stream",
     "text": [
      "1\n",
      "9\n",
      "25\n"
     ]
    }
   ],
   "source": [
    "#Continue === to print only square of odd numbers\n",
    "\n",
    "for i in range(6):\n",
    "    if i%2==0:\n",
    "        continue\n",
    "    print(i**2)"
   ]
  },
  {
   "cell_type": "markdown",
   "id": "6d7bbbcb",
   "metadata": {},
   "source": [
    "### pass statement\n",
    "\n",
    "pass statement is used in Python as a placeholder in code. It does nothing and is useful when a statement is syntactically required but you don't want any code to run. It allows you to write code that you plan to complete later without causing syntax errors.\n"
   ]
  },
  {
   "cell_type": "code",
   "execution_count": 27,
   "id": "0b12be68",
   "metadata": {},
   "outputs": [
    {
     "name": "stdout",
     "output_type": "stream",
     "text": [
      "0\n"
     ]
    }
   ],
   "source": [
    "i=0\n",
    "if i==0:\n",
    "    pass\n",
    "print(i)"
   ]
  },
  {
   "cell_type": "code",
   "execution_count": 28,
   "id": "a014ccd4",
   "metadata": {},
   "outputs": [
    {
     "name": "stdout",
     "output_type": "stream",
     "text": [
      "0\n"
     ]
    }
   ],
   "source": [
    "i=0\n",
    "if i==2:\n",
    "    pass\n",
    "print(i)"
   ]
  },
  {
   "cell_type": "code",
   "execution_count": 31,
   "id": "4131ea5e",
   "metadata": {},
   "outputs": [
    {
     "name": "stdout",
     "output_type": "stream",
     "text": [
      "99\n"
     ]
    }
   ],
   "source": [
    "for i in range(10,100):\n",
    "    pass\n",
    "print(i)"
   ]
  },
  {
   "cell_type": "code",
   "execution_count": null,
   "id": "f5f15e46",
   "metadata": {},
   "outputs": [],
   "source": [
    "#Nested loops: Loops within the loops\n",
    "\n",
    "# Here we have outer loop which will decide how many inner loop will run"
   ]
  },
  {
   "cell_type": "code",
   "execution_count": 45,
   "id": "88f98555",
   "metadata": {},
   "outputs": [
    {
     "name": "stdout",
     "output_type": "stream",
     "text": [
      "11111\n",
      "22222\n",
      "33333\n",
      "44444\n",
      "55555\n"
     ]
    }
   ],
   "source": [
    "'''\n",
    "11111\n",
    "22222\n",
    "33333\n",
    "44444\n",
    "55555\n",
    "'''\n",
    "\n",
    "for i in range (1,6):     #to come to next line\n",
    "    for j in range(1,6):  #to come to next value\n",
    "        print(i,end=\"\")   #to print value one beside other\n",
    "    print()               #"
   ]
  },
  {
   "cell_type": "code",
   "execution_count": 42,
   "id": "cf791ef7",
   "metadata": {},
   "outputs": [
    {
     "name": "stdout",
     "output_type": "stream",
     "text": [
      "Hello,World,Python,"
     ]
    }
   ],
   "source": [
    "print(\"Hello\",end=\",\")\n",
    "print(\"World\",end=\",\")\n",
    "print(\"Python\",end=\",\")"
   ]
  },
  {
   "cell_type": "code",
   "execution_count": 53,
   "id": "17687abe",
   "metadata": {},
   "outputs": [
    {
     "name": "stdout",
     "output_type": "stream",
     "text": [
      "1\n",
      "22\n",
      "333\n",
      "4444\n",
      "55555\n"
     ]
    }
   ],
   "source": [
    "'''\n",
    "1\n",
    "22\n",
    "333\n",
    "4444\n",
    "55555'''\n",
    "\n",
    "for i in range(1,6):\n",
    "    for j in range (1,i+1):\n",
    "        print(i,end=\"\")\n",
    "    print()"
   ]
  },
  {
   "cell_type": "code",
   "execution_count": 74,
   "id": "3cf0b540",
   "metadata": {},
   "outputs": [
    {
     "name": "stdout",
     "output_type": "stream",
     "text": [
      "1\n",
      "23\n",
      "456\n",
      "78910\n",
      "1112131415\n"
     ]
    }
   ],
   "source": [
    "'''\n",
    "1\n",
    "23\n",
    "456\n",
    "78910\n",
    "1112131415\n",
    "'''\n",
    "num=1\n",
    "for i in range(1,6):\n",
    "    for j in range(1,i+1):\n",
    "        print(num,end=\"\")\n",
    "        num+=1\n",
    "    print()"
   ]
  },
  {
   "cell_type": "code",
   "execution_count": 89,
   "id": "aec7188f",
   "metadata": {},
   "outputs": [
    {
     "name": "stdout",
     "output_type": "stream",
     "text": [
      "55555\n",
      "4444\n",
      "333\n",
      "22\n",
      "1\n"
     ]
    }
   ],
   "source": [
    "'''\n",
    "55555\n",
    "4444\n",
    "333\n",
    "22\n",
    "1\n",
    "'''\n",
    "for i in range(5,0,-1):\n",
    "    for j in range(1,i+1):\n",
    "        print(i,end=\"\")\n",
    "    print()"
   ]
  }
 ],
 "metadata": {
  "kernelspec": {
   "display_name": "Python 3 (ipykernel)",
   "language": "python",
   "name": "python3"
  },
  "language_info": {
   "codemirror_mode": {
    "name": "ipython",
    "version": 3
   },
   "file_extension": ".py",
   "mimetype": "text/x-python",
   "name": "python",
   "nbconvert_exporter": "python",
   "pygments_lexer": "ipython3",
   "version": "3.12.4"
  }
 },
 "nbformat": 4,
 "nbformat_minor": 5
}
